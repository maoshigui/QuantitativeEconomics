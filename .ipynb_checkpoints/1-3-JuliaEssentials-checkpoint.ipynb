{
 "cells": [
  {
   "cell_type": "markdown",
   "metadata": {},
   "source": [
    "# Exercise 1\n",
    "\n",
    "Part 1: Given two numeric arrays or tuples x_vals and y_vals of equal length, compute their inner product using zip()\n",
    "\n",
    "Part 2: Using a comprehension, count the number of even numbers in 0,...,99\n",
    "\n",
    "Hint: x % 2 returns 0 if x is even, 1 otherwise\n",
    "Part 3: Using a comprehension, take pairs = ((2, 5), (4, 2), (9, 8), (12, 10)) and count the number of pairs (a, b) such that both a and b are even"
   ]
  },
  {
   "cell_type": "code",
   "execution_count": 1,
   "metadata": {
    "collapsed": false
   },
   "outputs": [
    {
     "data": {
      "text/plain": [
       "inner_product2 (generic function with 1 method)"
      ]
     },
     "execution_count": 1,
     "metadata": {},
     "output_type": "execute_result"
    }
   ],
   "source": [
    "# for part 1\n",
    "function inner_product(x_vals, y_vals)\n",
    "  ret = 0\n",
    "  for (x, y) in zip(x_vals, y_vals)\n",
    "    ret += x * y\n",
    "  end\n",
    "  return ret\n",
    "end\n",
    "\n",
    "function inner_product2(x_vals, y_vals)\n",
    "  sum([x * y for (x, y) in zip(x_vals, y_vals)])\n",
    "end"
   ]
  },
  {
   "cell_type": "code",
   "execution_count": 2,
   "metadata": {
    "collapsed": false
   },
   "outputs": [
    {
     "data": {
      "text/plain": [
       "true"
      ]
     },
     "execution_count": 2,
     "metadata": {},
     "output_type": "execute_result"
    }
   ],
   "source": [
    "inner_product([1,2,3],[4,5,6]) == inner_product2([1,2,3],[4,5,6])"
   ]
  },
  {
   "cell_type": "code",
   "execution_count": 3,
   "metadata": {
    "collapsed": false
   },
   "outputs": [
    {
     "data": {
      "text/plain": [
       "50"
      ]
     },
     "execution_count": 3,
     "metadata": {},
     "output_type": "execute_result"
    }
   ],
   "source": [
    "# for part 2\n",
    "sum([1 for x in 0:99 if x % 2 == 0])"
   ]
  },
  {
   "cell_type": "code",
   "execution_count": 4,
   "metadata": {
    "collapsed": false
   },
   "outputs": [
    {
     "data": {
      "text/plain": [
       "2"
      ]
     },
     "execution_count": 4,
     "metadata": {},
     "output_type": "execute_result"
    }
   ],
   "source": [
    "# for part 3\n",
    "sum([a % 2 == 0 && b % 2 == 0 for (a, b) in ((2, 5), (4, 2), (9, 8), (12, 10))])"
   ]
  },
  {
   "cell_type": "markdown",
   "metadata": {},
   "source": [
    "# Exercise 2\n",
    "\n",
    "Consider the polynomial\n",
    "\n",
    "    p(x)=a_0+a_1*x+a_2*x^2+⋯a_n*x^n   (1)\n",
    "\n",
    "Using enumerate() in your loop, write a function p such that `p(x, coeff)` computes the value in (1) given a point x and an array of coefficients coeff"
   ]
  },
  {
   "cell_type": "code",
   "execution_count": 5,
   "metadata": {
    "collapsed": false
   },
   "outputs": [
    {
     "data": {
      "text/plain": [
       "p2 (generic function with 1 method)"
      ]
     },
     "execution_count": 5,
     "metadata": {},
     "output_type": "execute_result"
    }
   ],
   "source": [
    "function p(x, coeff)\n",
    "    ret = 0\n",
    "    for (i, a) in enumerate(coeff)\n",
    "        ret += a * x^i\n",
    "    end\n",
    "    return ret\n",
    "end\n",
    "\n",
    "p2(x, coeff) = sum([a * x^(i-1) for (i, a) in enumerate(coeff)])"
   ]
  },
  {
   "cell_type": "code",
   "execution_count": 6,
   "metadata": {
    "collapsed": false
   },
   "outputs": [
    {
     "data": {
      "text/plain": [
       "6"
      ]
     },
     "execution_count": 6,
     "metadata": {},
     "output_type": "execute_result"
    }
   ],
   "source": [
    "p2(1, (2, 4))"
   ]
  },
  {
   "cell_type": "markdown",
   "metadata": {},
   "source": [
    "# Exercise 3\n",
    "\n",
    "Write a function that takes a string as an argument and returns the number of capital letters in the string\n",
    "\n",
    "Hint: uppercase(\"foo\") returns \"FOO\""
   ]
  },
  {
   "cell_type": "code",
   "execution_count": 7,
   "metadata": {
    "collapsed": false
   },
   "outputs": [
    {
     "data": {
      "text/plain": [
       "countCapital (generic function with 1 method)"
      ]
     },
     "execution_count": 7,
     "metadata": {},
     "output_type": "execute_result"
    }
   ],
   "source": [
    "countCapital(s) = sum(['A' <= a <= 'Z' for a in s])"
   ]
  },
  {
   "cell_type": "markdown",
   "metadata": {},
   "source": [
    "# Exercise 4\n",
    "\n",
    "Write a function that takes two sequences seq_a and seq_b as arguments and returns true if every element in seq_a is also an element of seq_b, else false\n",
    "\n",
    "By “sequence” we mean an array, tuple or string"
   ]
  },
  {
   "cell_type": "code",
   "execution_count": null,
   "metadata": {
    "collapsed": true
   },
   "outputs": [],
   "source": [
    "function compare_tow_seqs(seq_a, seq_b)\n",
    "    for a in seq_a\n",
    "        if !(a in seq_b)\n",
    "            return false\n",
    "        end\n",
    "    end\n",
    "    return true\n",
    "end"
   ]
  },
  {
   "cell_type": "markdown",
   "metadata": {},
   "source": [
    "# Exercise 5\n",
    "\n",
    "The Julia libraries include functions for interpolation and approximation\n",
    "\n",
    "Nevertheless, let’s write our own function approximation routine as an exercise\n",
    "\n",
    "In particular, write a function linapprox that takes as arguments\n",
    "\n",
    "  - A function f mapping some interval [a,b] into R\n",
    "  - two scalars a and b providing the limits of this interval\n",
    "  - An integer n determining the number of grid points\n",
    "  - A number x satisfying a <= x <= b\n",
    "\n",
    "and returns the piecewise linear interpolation of f at x, based on n evenly spaced grid points a = point[1] < point[2] < ... < point[n] = b\n",
    "\n",
    "Aim for clarity, not efficiency"
   ]
  },
  {
   "cell_type": "code",
   "execution_count": null,
   "metadata": {
    "collapsed": true
   },
   "outputs": [],
   "source": [
    "function linapprox(f, a, b, n, x)\n",
    "    points = linspace(a, b, n)\n",
    "    index, step_a = [i, a]"
   ]
  }
 ],
 "metadata": {
  "anaconda-cloud": {},
  "kernelspec": {
   "display_name": "Julia 0.5.0",
   "language": "julia",
   "name": "julia-0.5"
  },
  "language_info": {
   "file_extension": ".jl",
   "mimetype": "application/julia",
   "name": "julia",
   "version": "0.5.0"
  }
 },
 "nbformat": 4,
 "nbformat_minor": 2
}
